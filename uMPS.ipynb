{
 "cells": [
  {
   "cell_type": "markdown",
   "metadata": {},
   "source": [
    "<h1> The linear span of uniform matrix product states </h1>\n",
    "\n",
    "We consider the variety of uniform matrix product states $\\operatorname{uMPS}(2,2,d) \\subset \\operatorname{Dih}^d(\\mathbb{C}^2)$. Its ambient space $V=\\operatorname{Dih}^d(\\mathbb{C}^2)$ is a $GL_2$-representation. \n",
    "Our code computes the degree $k$ part $I_k$ of the ideal $I$ defining $\\operatorname{uMPS}(2,2,d)$, which is a subspace of the $GL_2$-representation $S^kV^*$.\n",
    "\n",
    "More precisely, for every $d$ from $4$ to $\\verb|max_d|$, we compute three lists:\n",
    "<ul>\n",
    "    <li>$\\verb|ambientCharacter|$ is the character of the representation $S^kV$ (if $k=1$, this is the ambient space).</li>\n",
    "    <li>$\\verb|idealCharacter|$ is the character of the representation $I_k$.</li>\n",
    "    <li>$\\verb|quotientCharacter|$ is the character of the quotient $S^kV$ (if $k=1$, this is the linear span $\\langle \\operatorname{uMPS}(2,2,d) \\rangle$).</li>\n",
    "</ul>\n"
   ]
  },
  {
   "cell_type": "code",
   "execution_count": 1,
   "metadata": {},
   "outputs": [],
   "source": [
    "K=QQ\n",
    "import itertools\n",
    "\n",
    "#Function polynomialSpan\n",
    "#Input: polynomialList: a list of polynomials\n",
    "#Output: the dimension of their linear span\n",
    "def polynomialSpan(polynomialList):\n",
    "    monomials = set(flatten([P.monomials() for P in polynomialList]))\n",
    "    M=matrix([[P.monomial_coefficient(mon) for P in polynomialList] for mon in monomials])\n",
    "    return rank(M)\n",
    "\n",
    "#Function wordToBracelet\n",
    "#Input: w: a word in the alphabet {0,1}\n",
    "#Output: the corresponding bracelet, which is represented by the lexicographically largest word\n",
    "#that can be obtained from w under the action of the dihedral group\n",
    "#This function is only used when calling makeWordsAndBracelets below.\n",
    "def wordToBracelet(w):\n",
    "    w=list(w)\n",
    "    b = w[:]\n",
    "    for i in range(len(w)-1):\n",
    "        w = w[1:]+[w[0]]\n",
    "        if b < w:\n",
    "            b=w[:]\n",
    "    w.reverse()\n",
    "    for i in range(len(w)):\n",
    "        w = w[1:]+[w[0]]\n",
    "        if b < w:\n",
    "            b=w[:]\n",
    "    return(tuple(b))\n",
    "\n",
    "#Instead of repeatedly running the function wordToBracelet over the course of our algorithm,\n",
    "#we run it once for each word and store the result in a dictionary:\n",
    "wordToBraceletDict = {}\n",
    "\n",
    "#Function makeWordsAndBracelets\n",
    "#Input: a natural number N\n",
    "#Output: a pair (list all words of length N, list all bracelets of length N)\n",
    "#Moreover, it adds the pairs (word, bracelet) to the aforementioned dictionary \n",
    "def makeWordsAndBracelets(N):\n",
    "    words = IntegerVectors(length=N,max_part=1)\n",
    "    bracelets = []\n",
    "    for w in words:\n",
    "        b=wordToBracelet(w)\n",
    "        if b not in bracelets:\n",
    "            bracelets.append(b)\n",
    "        wordToBraceletDict[tuple(w)]=b\n",
    "    return (words,bracelets)\n",
    "\n",
    "\n",
    "#Initialize wordToBraceletDict\n",
    "makeWordsAndBracelets(1);\n",
    "makeWordsAndBracelets(2);\n",
    "\n",
    "#The dictionary H has as keys words in {0,1},\n",
    "#and as values the corresponding monomials in the trace parametrization of uMPS\n",
    "#We implement this by hand for d<4 \n",
    "S= PolynomialRing(K,5,\"T\")\n",
    "T=S.gens()\n",
    "H = {}\n",
    "H[(0,)] = T[0]\n",
    "H[(1,)] = T[1]\n",
    "H[(0,0)]=T[2]\n",
    "H[(1,0)]=T[3]\n",
    "H[(0,1)]=T[3]\n",
    "H[(1,1)]=T[4]\n",
    "(words,bracelets)=makeWordsAndBracelets(3)\n",
    "for b in bracelets:\n",
    "    b=tuple(b)\n",
    "    H[b]=(H[(b[0],)]*(H[(b[1],b[2])])+H[(b[1],)]*(H[(b[2],b[0])])+H[(b[2],)]*(H[(b[0],b[1])])-H[(b[0],)]*H[(b[1],)]*H[(b[2],)])/2\n",
    "for w in words:\n",
    "    H[tuple(w)]=H[wordToBraceletDict[tuple(w)]]\n",
    "\n",
    "#A global variable that keeps track of how far we computed the trace parametrization so far:\n",
    "max_d=3"
   ]
  },
  {
   "cell_type": "code",
   "execution_count": 2,
   "metadata": {},
   "outputs": [],
   "source": [
    "def computeCharacter(d,k):\n",
    "    if d> max_d:\n",
    "        for e in [max_d+1..d]:\n",
    "            #We compute the trace parametrization of uMPS(2,2,d) and store it in the dict H \n",
    "            (words,bracelets)=makeWordsAndBracelets(e)\n",
    "            for b in bracelets:\n",
    "                b=tuple(b)\n",
    "                A=(b[0],)\n",
    "                B=(b[1],)\n",
    "                C=(b[2],)\n",
    "                D=b[3:]\n",
    "                H[b]=( H[A]*(H[B+C+D]-H[B]*H[C+D])\n",
    "                      +H[B]*(H[C+D+A]-H[C]*H[D+A])\n",
    "                      +H[C]*(H[D+A+B]-H[D]*H[A+B])\n",
    "                      +H[D]*(H[A+B+C]-H[A]*H[B+C])\n",
    "                      -H[A+C]*H[B+D]\n",
    "                      +H[A+B]*H[C+D]\n",
    "                      +H[A+D]*H[B+C]\n",
    "                      +H[A]*H[B]*H[C]*H[D] )/2\n",
    "            for w in words:\n",
    "                H[tuple(w)]=H[wordToBraceletDict[tuple(w)]]\n",
    "    \n",
    "    #monomials sorted by weight\n",
    "    monsByWeight = [[] for i in range(k*d+1)]\n",
    "    for bTuple in itertools.combinations_with_replacement(bracelets,k):\n",
    "        w=sum([sum(b) for b in bTuple])\n",
    "        monsByWeight[w]=monsByWeight[w]+[bTuple]\n",
    "    \n",
    "    ambientCharacter=[len(x) for x in monsByWeight]\n",
    "    quotientCharacter=[]\n",
    "    for w in range(k*d+1):\n",
    "        quotientCharacter.append(polynomialSpan([prod([H[b] for b in p]) for p in monsByWeight[w]]))\n",
    "    idealCharacter=[ambientCharacter[i]-quotientCharacter[i] for i in range(k*d+1)]\n",
    "    return((ambientCharacter,idealCharacter,quotientCharacter))"
   ]
  },
  {
   "cell_type": "code",
   "execution_count": 3,
   "metadata": {},
   "outputs": [
    {
     "name": "stdout",
     "output_type": "stream",
     "text": [
      "4: [1, 1, 2, 1, 1]\n",
      "5: [1, 1, 2, 2, 1, 1]\n",
      "6: [1, 1, 3, 3, 3, 1, 1]\n",
      "7: [1, 1, 3, 4, 4, 3, 1, 1]\n",
      "8: [1, 1, 4, 5, 7, 5, 4, 1, 1]\n",
      "9: [1, 1, 4, 6, 8, 8, 6, 4, 1, 1]\n",
      "10: [1, 1, 5, 7, 11, 11, 11, 7, 5, 1, 1]\n",
      "11: [1, 1, 5, 8, 12, 14, 14, 12, 8, 5, 1, 1]\n",
      "12: [1, 1, 6, 9, 15, 17, 20, 17, 15, 9, 6, 1, 1]\n",
      "13: [1, 1, 6, 10, 16, 20, 23, 23, 20, 16, 10, 6, 1, 1]\n",
      "14: [1, 1, 7, 11, 19, 23, 29, 29, 29, 23, 19, 11, 7, 1, 1]\n",
      "15: [1, 1, 7, 12, 20, 26, 32, 35, 35, 32, 26, 20, 12, 7, 1, 1]\n"
     ]
    }
   ],
   "source": [
    "#To obtain table 1\n",
    "for d in [4..15]:\n",
    "    print(str(d)+': '+str(computeCharacter(d,1)[2]))"
   ]
  },
  {
   "cell_type": "code",
   "execution_count": 4,
   "metadata": {},
   "outputs": [
    {
     "name": "stdout",
     "output_type": "stream",
     "text": [
      "4: [0, 0, 0, 0, 0, 0, 0, 0, 0]\n",
      "5: [0, 0, 0, 0, 0, 0, 0, 0, 0, 0, 0]\n",
      "6: [0, 0, 0, 0, 1, 1, 2, 1, 1, 0, 0, 0, 0]\n",
      "7: [0, 0, 0, 0, 1, 3, 6, 7, 6, 3, 1, 0, 0, 0, 0]\n",
      "8: [0, 0, 0, 0, 5, 10, 25, 32, 42, 32, 25, 10, 5, 0, 0, 0, 0]\n",
      "9: [0, 0, 0, 1, 7, 21, 48, 79, 110, 119, 110, 79, 48, 21, 7, 1, 0, 0, 0]\n",
      "10: [0, 0, 0, 1, 14, 38, 100, 176, 290, 360, 408, 360, 290, 176, 100, 38, 14, 1, 0, 0, 0]\n"
     ]
    }
   ],
   "source": [
    "#To obtain table 2\n",
    "for d in [4..10]:\n",
    "    print(str(d)+': '+str(computeCharacter(d,2)[1]))"
   ]
  },
  {
   "cell_type": "code",
   "execution_count": 5,
   "metadata": {},
   "outputs": [
    {
     "name": "stdout",
     "output_type": "stream",
     "text": [
      "4: [0, 0, 0, 0, 0, 0, 0, 0, 0, 0, 0, 0, 0]\n",
      "5: [0, 0, 0, 0, 0, 0, 0, 0, 0, 0, 0, 0, 0, 0, 0, 0]\n",
      "6: [0, 0, 0, 0, 1, 2, 8, 11, 17, 17, 17, 11, 8, 2, 1, 0, 0, 0, 0]\n",
      "7: [0, 0, 0, 0, 1, 4, 15, 29, 49, 67, 77, 77, 67, 49, 29, 15, 4, 1, 0, 0, 0, 0]\n",
      "8: [0, 0, 0, 0, 5, 14, 51, 101, 198, 292, 414, 478, 532, 478, 414, 292, 198, 101, 51, 14, 5, 0, 0, 0, 0]\n",
      "9: [0, 0, 0, 1, 7, 26, 83, 191, 388, 671, 1039, 1431, 1784, 1983, 1983, 1784, 1431, 1039, 671, 388, 191, 83, 26, 7, 1, 0, 0, 0]\n"
     ]
    }
   ],
   "source": [
    "#To obtain table 3\n",
    "for d in [4..9]:\n",
    "    print(str(d)+': '+str(computeCharacter(d,3)[1]))"
   ]
  },
  {
   "cell_type": "code",
   "execution_count": null,
   "metadata": {},
   "outputs": [],
   "source": []
  }
 ],
 "metadata": {
  "kernelspec": {
   "display_name": "SageMath 9.0",
   "language": "sage",
   "name": "sagemath"
  },
  "language_info": {
   "codemirror_mode": {
    "name": "ipython",
    "version": 3
   },
   "file_extension": ".py",
   "mimetype": "text/x-python",
   "name": "python",
   "nbconvert_exporter": "python",
   "pygments_lexer": "ipython3",
   "version": "3.8.10"
  }
 },
 "nbformat": 4,
 "nbformat_minor": 4
}
